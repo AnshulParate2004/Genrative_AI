{
  "cells": [
    {
      "cell_type": "code",
      "execution_count": 1,
      "metadata": {
        "id": "NHrswnM2276-"
      },
      "outputs": [],
      "source": [
        "from langchain.schema import Document\n",
        "from langchain_google_genai import GoogleGenerativeAIEmbeddings\n",
        "from langchain_community.vectorstores import Chroma\n",
        "from dotenv import load_dotenv\n",
        "load_dotenv()\n",
        "embedding_function = GoogleGenerativeAIEmbeddings(model =\"gemini-embedding-001\")\n",
        "\n",
        "docs = [\n",
        "    Document(\n",
        "        page_content=\"Peak Performance Gym was founded in 2015 by former Olympic athlete Marcus Chen. With over 15 years of experience in professional athletics, Marcus established the gym to provide personalized fitness solutions for people of all levels. The gym spans 10,000 square feet and features state-of-the-art equipment.\",\n",
        "        metadata={\"source\": \"about.txt\"}\n",
        "    ),\n",
        "    Document(\n",
        "        page_content=\"Peak Performance Gym is open Monday through Friday from 5:00 AM to 11:00 PM. On weekends, our hours are 7:00 AM to 9:00 PM. We remain closed on major national holidays. Members with Premium access can enter using their key cards 24/7, including holidays.\",\n",
        "        metadata={\"source\": \"hours.txt\"}\n",
        "    ),\n",
        "    Document(\n",
        "        page_content=\"Our membership plans include: Basic (₹1,500/month) with access to gym floor and basic equipment; Standard (₹2,500/month) adds group classes and locker facilities; Premium (₹4,000/month) includes 24/7 access, personal training sessions, and spa facilities. We offer student and senior citizen discounts of 15% on all plans. Corporate partnerships are available for companies with 10+ employees joining.\",\n",
        "        metadata={\"source\": \"membership.txt\"}\n",
        "    ),\n",
        "    Document(\n",
        "        page_content=\"Group fitness classes at Peak Performance Gym include Yoga (beginner, intermediate, advanced), HIIT, Zumba, Spin Cycling, CrossFit, and Pilates. Beginner classes are held every Monday and Wednesday at 6:00 PM. Intermediate and advanced classes are scheduled throughout the week. The full schedule is available on our mobile app or at the reception desk.\",\n",
        "        metadata={\"source\": \"classes.txt\"}\n",
        "    ),\n",
        "    Document(\n",
        "        page_content=\"Personal trainers at Peak Performance Gym are all certified professionals with minimum 5 years of experience. Each new member receives a complimentary fitness assessment and one free session with a trainer. Our head trainer, Neha Kapoor, specializes in rehabilitation fitness and sports-specific training. Personal training sessions can be booked individually (₹800/session) or in packages of 10 (₹7,000) or 20 (₹13,000).\",\n",
        "        metadata={\"source\": \"trainers.txt\"}\n",
        "    ),\n",
        "    Document(\n",
        "        page_content=\"Peak Performance Gym's facilities include a cardio zone with 30+ machines, strength training area, functional fitness space, dedicated yoga studio, spin class room, swimming pool (25m), sauna and steam rooms, juice bar, and locker rooms with shower facilities. Our equipment is replaced or upgraded every 3 years to ensure members have access to the latest fitness technology.\",\n",
        "        metadata={\"source\": \"facilities.txt\"}\n",
        "    )\n",
        "]\n",
        "\n",
        "db = Chroma.from_documents(docs, embedding_function)"
      ]
    },
    {
      "cell_type": "code",
      "execution_count": 2,
      "metadata": {
        "id": "n-MDUpgC3QM0"
      },
      "outputs": [],
      "source": [
        "retriever = db.as_retriever(search_type=\"mmr\", search_kwargs = {\"k\": 3})"
      ]
    },
    {
      "cell_type": "code",
      "execution_count": 3,
      "metadata": {
        "id": "RdI2ui8eTTje"
      },
      "outputs": [],
      "source": [
        "from langchain.tools.retriever import create_retriever_tool\n",
        "from langchain_core.tools import tool\n",
        "\n",
        "retriever_tool = create_retriever_tool(\n",
        "    retriever,\n",
        "    \"retriever_tool\",\n",
        "    \"Information related to Gym History & Founder, Operating Hours, Membership Plans, Fitness Classes, Personal Trainers, and Facilities & Equipment of Peak Performance Gym\",\n",
        ")\n",
        "\n",
        "\n",
        "@tool\n",
        "def off_topic():\n",
        "    \"\"\"Catch all Questions NOT related to Peak Performance Gym's history, hours, membership plans, fitness classes, trainers, or facilities\"\"\"\n",
        "    return \"Forbidden - do not respond to the user\"\n",
        "\n",
        "\n",
        "tools = [retriever_tool, off_topic]"
      ]
    },
    {
      "cell_type": "code",
      "execution_count": 8,
      "metadata": {
        "id": "40f50534"
      },
      "outputs": [],
      "source": [
        "from typing import Annotated,Sequence, Literal, TypedDict\n",
        "from langchain_core.messages import BaseMessage\n",
        "from langgraph.graph.message import add_messages\n",
        "\n",
        "\n",
        "class AgentState(TypedDict):\n",
        "    messages: Annotated[Sequence[BaseMessage], add_messages]"
      ]
    },
    {
      "cell_type": "code",
      "execution_count": 9,
      "metadata": {
        "id": "0Fvo4iZ1TXRG"
      },
      "outputs": [],
      "source": [
        "\n",
        "from langchain.tools.retriever import create_retriever_tool\n",
        "from langchain_core.tools import tool\n",
        "\n",
        "retriever_tool = create_retriever_tool(\n",
        "    retriever,\n",
        "    \"retriever_tool\",\n",
        "    \"Information related to Gym History & Founder, Operating Hours, Membership Plans, Fitness Classes, Personal Trainers, and Facilities & Equipment of Peak Performance Gym\",\n",
        ")\n",
        "\n",
        "\n",
        "@tool\n",
        "def off_topic():\n",
        "    \"\"\"Catch all Questions NOT related to Peak Performance Gym's history, hours, membership plans, fitness classes, trainers, or facilities\"\"\"\n",
        "    return \"Forbidden - do not respond to the user\"\n",
        "\n",
        "\n",
        "tools = [retriever_tool, off_topic]"
      ]
    },
    {
      "cell_type": "code",
      "execution_count": 10,
      "metadata": {
        "id": "y0eVi4p4UB82"
      },
      "outputs": [],
      "source": [
        "from typing import Annotated,Sequence, Literal, TypedDict\n",
        "from langchain_core.messages import BaseMessage\n",
        "from langgraph.graph.message import add_messages\n",
        "\n",
        "\n",
        "class AgentState(TypedDict):\n",
        "    messages: Annotated[Sequence[BaseMessage], add_messages]"
      ]
    },
    {
      "cell_type": "code",
      "execution_count": 22,
      "metadata": {
        "id": "pq9LlGmEUFYS"
      },
      "outputs": [],
      "source": [
        "from langchain_core.messages import HumanMessage\n",
        "from langchain_google_genai import ChatGoogleGenerativeAI\n",
        "from langgraph.graph import END, StateGraph, START\n",
        "\n",
        "\n",
        "def agent(state):\n",
        "    messages = state[\"messages\"]\n",
        "    model = ChatGoogleGenerativeAI(model = \"gemini-2.5-pro\")\n",
        "    model = model.bind_tools(tools)\n",
        "    response = model.invoke(messages)\n",
        "    return {\"messages\": [response]}\n",
        "\n",
        "\n",
        "def should_continue(state) -> Literal[\"tools\", END]:\n",
        "    messages = state[\"messages\"]\n",
        "    last_message = messages[-1]\n",
        "    if last_message.tool_calls:\n",
        "        return \"tools\"\n",
        "    return END"
      ]
    },
    {
      "cell_type": "code",
      "execution_count": 23,
      "metadata": {
        "id": "bk8U4_fbUIHY"
      },
      "outputs": [],
      "source": [
        "from langgraph.graph import END, StateGraph, START\n",
        "from langgraph.prebuilt import ToolNode\n",
        "\n",
        "workflow = StateGraph(AgentState)\n",
        "\n",
        "workflow.add_node(\"agent\", agent)\n",
        "\n",
        "tool_node = ToolNode(tools)\n",
        "workflow.add_node(\"tools\", tool_node)\n",
        "workflow.add_edge(START, \"agent\")\n",
        "workflow.add_conditional_edges(\n",
        "    \"agent\",\n",
        "    should_continue,\n",
        ")\n",
        "workflow.add_edge(\"tools\", \"agent\")\n",
        "\n",
        "graph = workflow.compile()"
      ]
    },
    {
      "cell_type": "code",
      "execution_count": 24,
      "metadata": {
        "colab": {
          "base_uri": "https://localhost:8080/",
          "height": 266
        },
        "id": "SbTZ5QdnUKiL",
        "outputId": "18830aba-6398-45a0-bbd4-5dc5f6b010d4"
      },
      "outputs": [
        {
          "data": {
            "image/png": "[encoded data removed]",
            "text/plain": [
              "<IPython.core.display.Image object>"
            ]
          },
          "metadata": {},
          "output_type": "display_data"
        }
      ],
      "source": [
        "from IPython.display import Image, display\n",
        "from langchain_core.runnables.graph import MermaidDrawMethod\n",
        "\n",
        "display(\n",
        "    Image(\n",
        "        graph.get_graph().draw_mermaid_png(\n",
        "            draw_method=MermaidDrawMethod.API,\n",
        "        )\n",
        "    )\n",
        ")"
      ]
    },
    {
      "cell_type": "code",
      "execution_count": 25,
      "metadata": {
        "colab": {
          "base_uri": "https://localhost:8080/"
        },
        "id": "DskFRY46UM3n",
        "outputId": "b45c247d-7073-47e5-e6d9-204d634f1fcf"
      },
      "outputs": [
        {
          "data": {
            "text/plain": [
              "{'messages': [HumanMessage(content='How will the weather be tommorrow?', additional_kwargs={}, response_metadata={}, id='285acbb5-5f28-4097-92b1-72e983e4a36c'),\n",
              "  AIMessage(content='', additional_kwargs={'function_call': {'name': 'off_topic', 'arguments': '{}'}}, response_metadata={'prompt_feedback': {'block_reason': 0, 'safety_ratings': []}, 'finish_reason': 'STOP', 'model_name': 'gemini-2.5-pro', 'safety_ratings': []}, id='run--2d04138c-dfc6-4498-8157-189849093223-0', tool_calls=[{'name': 'off_topic', 'args': {}, 'id': 'a7ed6188-dcb2-4a1b-b098-eb30be85dc32', 'type': 'tool_call'}], usage_metadata={'input_tokens': 121, 'output_tokens': 117, 'total_tokens': 238, 'input_token_details': {'cache_read': 0}, 'output_token_details': {'reasoning': 107}}),\n",
              "  ToolMessage(content='Forbidden - do not respond to the user', name='off_topic', id='70109e5a-4030-4a60-a296-374ec5014356', tool_call_id='a7ed6188-dcb2-4a1b-b098-eb30be85dc32'),\n",
              "  AIMessage(content='I am sorry, but I cannot answer that question. I can only answer questions about Peak Performance Gym.', additional_kwargs={}, response_metadata={'prompt_feedback': {'block_reason': 0, 'safety_ratings': []}, 'finish_reason': 'STOP', 'model_name': 'gemini-2.5-pro', 'safety_ratings': []}, id='run--6c3a0536-9829-4f3d-9406-ae614a84e9e1-0', usage_metadata={'input_tokens': 153, 'output_tokens': 276, 'total_tokens': 429, 'input_token_details': {'cache_read': 0}, 'output_token_details': {'reasoning': 255}})]}"
            ]
          },
          "execution_count": 25,
          "metadata": {},
          "output_type": "execute_result"
        }
      ],
      "source": [
        "graph.invoke(\n",
        "    input={\"messages\": [HumanMessage(content=\"How will the weather be tommorrow?\")]}\n",
        ")"
      ]
    },
    {
      "cell_type": "code",
      "execution_count": 27,
      "metadata": {
        "colab": {
          "base_uri": "https://localhost:8080/"
        },
        "id": "uCPL2ag6UPmx",
        "outputId": "4846c18d-1d79-4e34-8a81-f22530aec04f"
      },
      "outputs": [
        {
          "data": {
            "text/plain": [
              "{'messages': [HumanMessage(content='Who is the owner and what are the timings?', additional_kwargs={}, response_metadata={}, id='adde786a-1761-4df3-8dc3-41552582fdb5'),\n",
              "  AIMessage(content='', additional_kwargs={'function_call': {'name': 'retriever_tool', 'arguments': '{\"query\": \"What are the operating hours of Peak Performance Gym?\"}'}}, response_metadata={'prompt_feedback': {'block_reason': 0, 'safety_ratings': []}, 'finish_reason': 'STOP', 'model_name': 'gemini-2.5-pro', 'safety_ratings': []}, id='run--83fdceb0-a2e1-4401-b7a0-4207a735f2f0-0', tool_calls=[{'name': 'retriever_tool', 'args': {'query': 'Who is the owner of Peak Performance Gym?'}, 'id': '10c85fec-da78-4a95-9cbe-99598f887861', 'type': 'tool_call'}, {'name': 'retriever_tool', 'args': {'query': 'What are the operating hours of Peak Performance Gym?'}, 'id': 'b89becfa-94d9-445b-9225-30e6fcbbbe9e', 'type': 'tool_call'}], usage_metadata={'input_tokens': 122, 'output_tokens': 342, 'total_tokens': 464, 'input_token_details': {'cache_read': 0}, 'output_token_details': {'reasoning': 293}}),\n",
              "  ToolMessage(content='Peak Performance Gym was founded in 2015 by former Olympic athlete Marcus Chen. With over 15 years of experience in professional athletics, Marcus established the gym to provide personalized fitness solutions for people of all levels. The gym spans 10,000 square feet and features state-of-the-art equipment.\\n\\nPeak Performance Gym is open Monday through Friday from 5:00 AM to 11:00 PM. On weekends, our hours are 7:00 AM to 9:00 PM. We remain closed on major national holidays. Members with Premium access can enter using their key cards 24/7, including holidays.\\n\\nGroup fitness classes at Peak Performance Gym include Yoga (beginner, intermediate, advanced), HIIT, Zumba, Spin Cycling, CrossFit, and Pilates. Beginner classes are held every Monday and Wednesday at 6:00 PM. Intermediate and advanced classes are scheduled throughout the week. The full schedule is available on our mobile app or at the reception desk.', name='retriever_tool', id='6714db30-7cda-4aad-8053-7bcc88801e6e', tool_call_id='10c85fec-da78-4a95-9cbe-99598f887861'),\n",
              "  ToolMessage(content=\"Peak Performance Gym is open Monday through Friday from 5:00 AM to 11:00 PM. On weekends, our hours are 7:00 AM to 9:00 PM. We remain closed on major national holidays. Members with Premium access can enter using their key cards 24/7, including holidays.\\n\\nPeak Performance Gym's facilities include a cardio zone with 30+ machines, strength training area, functional fitness space, dedicated yoga studio, spin class room, swimming pool (25m), sauna and steam rooms, juice bar, and locker rooms with shower facilities. Our equipment is replaced or upgraded every 3 years to ensure members have access to the latest fitness technology.\\n\\nPeak Performance Gym was founded in 2015 by former Olympic athlete Marcus Chen. With over 15 years of experience in professional athletics, Marcus established the gym to provide personalized fitness solutions for people of all levels. The gym spans 10,000 square feet and features state-of-the-art equipment.\", name='retriever_tool', id='953c5138-1c04-4ba3-9dc8-475abe48f755', tool_call_id='b89becfa-94d9-445b-9225-30e6fcbbbe9e'),\n",
              "  AIMessage(content='The owner of Peak Performance Gym is Marcus Chen. The gym is open Monday through Friday from 5:00 AM to 11:00 PM, and on weekends from 7:00 AM to 9:00 PM.', additional_kwargs={}, response_metadata={'prompt_feedback': {'block_reason': 0, 'safety_ratings': []}, 'finish_reason': 'STOP', 'model_name': 'gemini-2.5-pro', 'safety_ratings': []}, id='run--87ec2221-3907-4e32-a830-776c8784de88-0', usage_metadata={'input_tokens': 634, 'output_tokens': 219, 'total_tokens': 853, 'input_token_details': {'cache_read': 0}, 'output_token_details': {'reasoning': 168}})]}"
            ]
          },
          "execution_count": 27,
          "metadata": {},
          "output_type": "execute_result"
        }
      ],
      "source": [
        "graph.invoke(input={\n",
        "    \"messages\": [HumanMessage(content=\"Who is the owner and what are the timings?\")]\n",
        "})"
      ]
    },
    {
      "cell_type": "code",
      "execution_count": null,
      "metadata": {
        "id": "t_ueU-utVBB2"
      },
      "outputs": [],
      "source": []
    }
  ],
  "metadata": {
    "colab": {
      "provenance": []
    },
    "kernelspec": {
      "display_name": ".venv (3.11.0)",
      "language": "python",
      "name": "python3"
    },
    "language_info": {
      "name": "python",
      "version": "3.11.0"
    }
  },
  "nbformat": 4,
  "nbformat_minor": 0
}
