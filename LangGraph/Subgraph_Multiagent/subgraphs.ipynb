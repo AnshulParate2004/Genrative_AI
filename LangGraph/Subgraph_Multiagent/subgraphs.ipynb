{
  "cells": [
    {
      "cell_type": "code",
      "execution_count": null,
      "metadata": {
        "id": "NHrswnM2276-"
      },
      "outputs": [],
      "source": [
        "from typing import TypedDict, Annotated\n",
        "from langgraph.graph import add_messages, StateGraph, END,START\n",
        "from langchain_groq import ChatGroq\n",
        "from langchain_core.messages import AIMessage, HumanMessage\n",
        "from dotenv import load_dotenv\n",
        "from langchain_community.tools.tavily_search import TavilySearchResults\n",
        "from langgraph.prebuilt import ToolNode\n",
        "from typing import Annotated,Sequence, Literal, TypedDict\n",
        "load_dotenv()\n",
        "\n",
        "class ChildState(TypedDict):\n",
        "    messages: Annotated[Sequence[BaseMessage], add_messages]\n",
        "\n",
        "search_tool = TavilySearchResults(max_results=2)\n",
        "tools = [search_tool]\n",
        "\n",
        "llm = ChatGroq(model=\"llama-3.1-8b-instant\")\n",
        "\n",
        "llm_with_tools = llm.bind_tools(tools=tools)\n",
        "\n",
        "def agent(state: ChildState):\n",
        "    return {\n",
        "        \"messages\": [llm_with_tools.invoke(state[\"messages\"])],\n",
        "    }\n",
        "\n",
        "def tools_router(state: ChildState)-> Literal[\"tool_node\", END]:\n",
        "    last_message = state[\"messages\"][-1]\n",
        "\n",
        "    if(hasattr(last_message, \"tool_calls\") and len(last_message.tool_calls) > 0):\n",
        "        return \"tool_node\"\n",
        "    else:\n",
        "        return END\n",
        "\n",
        "\n",
        "\n",
        "\n",
        "subgraph = StateGraph(ChildState)\n",
        "\n",
        "subgraph.add_node(\"agent\", agent)\n",
        "tool_node = ToolNode(tools)\n",
        "subgraph.add_node(\"tool_node\", tool_node)\n",
        "subgraph.add_edge(START, \"agent\")\n",
        "\n",
        "subgraph.add_conditional_edges(\"agent\", tools_router)\n",
        "subgraph.add_edge(\"tool_node\", \"agent\")\n",
        "\n",
        "search_app = subgraph.compile()"
      ]
    },
    {
      "cell_type": "code",
      "execution_count": null,
      "metadata": {
        "colab": {
          "base_uri": "https://localhost:8080/",
          "height": 266
        },
        "id": "B93_OC1Ibj5b",
        "outputId": "fa1f7855-c947-45b2-b5c9-4d95c5c39140"
      },
      "outputs": [
        {
          "data": {
            "image/png": "[encoded data removed]",
            "text/plain": [
              "<IPython.core.display.Image object>"
            ]
          },
          "metadata": {},
          "output_type": "display_data"
        }
      ],
      "source": [
        "from IPython.display import Image, display\n",
        "from langchain_core.runnables.graph import MermaidDrawMethod\n",
        "\n",
        "display(\n",
        "    Image(\n",
        "        search_app.get_graph().draw_mermaid_png(\n",
        "            draw_method=MermaidDrawMethod.API,\n",
        "        )\n",
        "    )\n",
        ")"
      ]
    },
    {
      "cell_type": "code",
      "execution_count": null,
      "metadata": {
        "colab": {
          "base_uri": "https://localhost:8080/"
        },
        "id": "sJq3FgUUlNRo",
        "outputId": "6e4e8ebf-dbb9-427d-f4cc-540615c1afe6"
      },
      "outputs": [
        {
          "name": "stdout",
          "output_type": "stream",
          "text": [
            "\n",
            "[Human] How is the weather in Chennai?\n",
            "\n",
            "[AI] \n",
            "  -> AI triggered tools:\n",
            "     Tool name: tavily_search_results_json\n",
            "     Arguments: {'query': 'Chennai weather'}\n",
            "\n",
            "[Tool Output - tavily_search_results_json]\n",
            "  Result 1:\n",
            "    Title: Weather in Chennai in October 2025 - Detailed Forecast\n",
            "    URL: https://www.easeweather.com/asia/india/tamil-nadu/chennai/october\n",
            "    Content: Until now, October 2025 in Chennai has been nearly identical to the historical average, with a temperature of 31.2 °C (showing only a slight deviation of 0.1 °C).\n",
            " Expect cooler weather in the next da...\n",
            "    Score: 0.93666285\n",
            "  Result 2:\n",
            "    Title: Weather Chennai in October 2025: Temperature & Climate\n",
            "    URL: https://en.climate-data.org/asia/india/tamil-nadu/chennai-1003222/t/october-10/\n",
            "    Content: | Min. Temperature °C (°F) | 20.8 °C  (69.5) °F | 21 °C  (69.9) °F | 23.1 °C  (73.5) °F | 26.2 °C  (79.1) °F | 28 °C  (82.4) °F | 27.7 °C  (81.9) °F | 27 °C  (80.7) °F | 26.4 °C  (79.5) °F | 26 °C  (7...\n",
            "    Score: 0.90849644\n",
            "\n",
            "[AI] The current weather in Chennai is mostly sunny with a temperature of 29.2°C. The humidity is around 68% and there is a chance of rain on some days.\n"
          ]
        }
      ],
      "source": [
        "from langchain_core.messages import AIMessage, HumanMessage, ToolMessage\n",
        "import json\n",
        "\n",
        "response = search_app.invoke({\"messages\": [HumanMessage(content=\"How is the weather in Chennai?\")]})\n",
        "\n",
        "messages = response['messages']\n",
        "\n",
        "for msg in messages:\n",
        "    if isinstance(msg, HumanMessage):\n",
        "        print(f\"\\n[Human] {msg.content}\")\n",
        "    elif isinstance(msg, AIMessage):\n",
        "        print(f\"\\n[AI] {msg.content}\")\n",
        "        # Check if AIMessage has tool_calls\n",
        "        if hasattr(msg, \"tool_calls\") and msg.tool_calls:\n",
        "            print(\"  -> AI triggered tools:\")\n",
        "            for tool_call in msg.tool_calls:\n",
        "                print(f\"     Tool name: {tool_call['name']}\")\n",
        "                print(f\"     Arguments: {tool_call['args']}\")\n",
        "    elif isinstance(msg, ToolMessage):\n",
        "        print(f\"\\n[Tool Output - {msg.name}]\")\n",
        "        try:\n",
        "            tool_results = json.loads(msg.content)\n",
        "            for idx, result in enumerate(tool_results):\n",
        "                print(f\"  Result {idx+1}:\")\n",
        "                print(f\"    Title: {result.get('title', 'N/A')}\")\n",
        "                print(f\"    URL: {result.get('url', 'N/A')}\")\n",
        "                print(f\"    Content: {result.get('content', '')[:200]}...\")  # truncate\n",
        "                print(f\"    Score: {result.get('score', 'N/A')}\")\n",
        "        except json.JSONDecodeError:\n",
        "            print(\"  Could not parse tool message content.\")\n"
      ]
    },
    {
      "cell_type": "markdown",
      "metadata": {
        "id": "pEwiEFvev7Sj"
      },
      "source": [
        "#Case 1: Shared Schema (Direct Embedding)\n",
        "You are here make child graph a node and giving it to parent graph"
      ]
    },
    {
      "cell_type": "code",
      "execution_count": null,
      "metadata": {
        "colab": {
          "base_uri": "https://localhost:8080/"
        },
        "id": "5tPQ6fGEq9OZ",
        "outputId": "5bedc0c0-efbb-452f-a1a2-c3b5fb09aa29"
      },
      "outputs": [
        {
          "name": "stdout",
          "output_type": "stream",
          "text": [
            "\n",
            "[Human] How is the weather in Chennai?\n",
            "\n",
            "[AI] \n",
            "  -> AI triggered tools:\n",
            "     Tool name: tavily_search_results_json\n",
            "     Arguments: {'query': 'Chennai weather today'}\n",
            "\n",
            "[Tool Output - tavily_search_results_json]\n",
            "  Result 1:\n",
            "    Title: Chennai weather in October 2025 - Weather25.com\n",
            "    URL: https://www.weather25.com/asia/india/tamil-nadu/chennai?page=month&month=October\n",
            "    Content: weather25.com\n",
            "Search\n",
            "weather in India\n",
            "Remove from your favorite locations\n",
            "Add to my locations\n",
            "Share\n",
            "weather in India\n",
            "\n",
            "# Chennai weather in October 2025\n",
            "\n",
            "Partly cloudy\n",
            "Light rain shower\n",
            "Moderate or hea...\n",
            "    Score: 0.9237645\n",
            "  Result 2:\n",
            "    Title: Weather in Chennai in October 2025 - Detailed Forecast\n",
            "    URL: https://www.easeweather.com/asia/india/tamil-nadu/chennai/october\n",
            "    Content: easeweather.com\n",
            "India weather\n",
            "\n",
            "# Weather in Chennai for October 2025\n",
            "\n",
            "### Temperatures\n",
            "\n",
            "Until now, October 2025 in Chennai has been nearly identical to the historical average, with a temperature of 30...\n",
            "    Score: 0.92359936\n",
            "\n",
            "[AI] The weather in Chennai is partly cloudy with a chance of light rain showers. The temperature is around 30°C, with a slight deviation from the historical average. The forecast for the next few days predicts temperatures to be around 30°C, with a chance of heavy rain, moderate rain, and patchy rain possible. It is recommended to check the weather forecast regularly for updates.\n"
          ]
        }
      ],
      "source": [
        "from typing import TypedDict, Annotated\n",
        "from langgraph.graph import add_messages, StateGraph, START, END\n",
        "from langchain_core.messages import HumanMessage\n",
        "\n",
        "# Define parent graph with the same schema\n",
        "class ParentState(TypedDict):\n",
        "    messages: Annotated[list, add_messages]\n",
        "\n",
        "# Create parent graph\n",
        "parent_graph = StateGraph(ParentState)\n",
        "\n",
        "# Add the subgraph as a node\n",
        "parent_graph.add_node(\"search_agent\", search_app)\n",
        "\n",
        "# Connect the flow\n",
        "parent_graph.add_edge(START, \"search_agent\")\n",
        "parent_graph.add_edge(\"search_agent\", END)\n",
        "\n",
        "# Compile parent graph\n",
        "parent_app = parent_graph.compile()\n",
        "\n",
        "# Run the parent graph\n",
        "result = parent_app.invoke({\"messages\": [HumanMessage(content=\"How is the weather in Chennai?\")]})\n",
        "messages = result['messages']\n",
        "\n",
        "for msg in messages:\n",
        "    if isinstance(msg, HumanMessage):\n",
        "        print(f\"\\n[Human] {msg.content}\")\n",
        "    elif isinstance(msg, AIMessage):\n",
        "        print(f\"\\n[AI] {msg.content}\")\n",
        "        # Check if AIMessage has tool_calls\n",
        "        if hasattr(msg, \"tool_calls\") and msg.tool_calls:\n",
        "            print(\"  -> AI triggered tools:\")\n",
        "            for tool_call in msg.tool_calls:\n",
        "                print(f\"     Tool name: {tool_call['name']}\")\n",
        "                print(f\"     Arguments: {tool_call['args']}\")\n",
        "    elif isinstance(msg, ToolMessage):\n",
        "        print(f\"\\n[Tool Output - {msg.name}]\")\n",
        "        try:\n",
        "            tool_results = json.loads(msg.content)\n",
        "            for idx, result in enumerate(tool_results):\n",
        "                print(f\"  Result {idx+1}:\")\n",
        "                print(f\"    Title: {result.get('title', 'N/A')}\")\n",
        "                print(f\"    URL: {result.get('url', 'N/A')}\")\n",
        "                print(f\"    Content: {result.get('content', '')[:200]}...\")  # truncate\n",
        "                print(f\"    Score: {result.get('score', 'N/A')}\")\n",
        "        except json.JSONDecodeError:\n",
        "            print(\"  Could not parse tool message content.\")"
      ]
    },
    {
      "cell_type": "markdown",
      "metadata": {
        "id": "TAmlCE3IwAZ7"
      },
      "source": [
        "# Case 2: Different Schema (Invoke with Transformation)\n",
        "use this if parent graph has diffrent schema"
      ]
    },
    {
      "cell_type": "code",
      "execution_count": 54,
      "metadata": {
        "colab": {
          "base_uri": "https://localhost:8080/"
        },
        "id": "03dvIOT0u6aA",
        "outputId": "24c63fa2-b856-4db0-873f-1e4e21e13de4"
      },
      "outputs": [
        {
          "data": {
            "text/plain": [
              "{'query': 'How is the weather in Chennai?',\n",
              " 'response': AIMessage(content='The weather in Chennai is currently warm, with a temperature of 31.2 °C, which is slightly lower than the historical average. However, the forecast suggests that the weather will be cooler in the next few days, with a temperature of 29.2 °C, which is lower than the historical average. The humidity is around 74%, and there have been 3 rainy days so far in October.', additional_kwargs={}, response_metadata={'token_usage': {'completion_tokens': 85, 'prompt_tokens': 1249, 'total_tokens': 1334, 'completion_time': 0.112748409, 'prompt_time': 0.074510861, 'queue_time': 0.053393919, 'total_time': 0.18725927}, 'model_name': 'llama-3.1-8b-instant', 'system_fingerprint': 'fp_33e8adf159', 'service_tier': 'on_demand', 'finish_reason': 'stop', 'logprobs': None}, id='run--14784203-1c3d-4f10-90d3-d54805835208-0', usage_metadata={'input_tokens': 1249, 'output_tokens': 85, 'total_tokens': 1334})}"
            ]
          },
          "execution_count": 54,
          "metadata": {},
          "output_type": "execute_result"
        }
      ],
      "source": [
        "from typing import TypedDict, Annotated, Dict\n",
        "from langgraph.graph import StateGraph, START, END\n",
        "from langchain_core.messages import HumanMessage\n",
        "\n",
        "# Define parent graph with different schema\n",
        "class QueryState(TypedDict):\n",
        "    query: str\n",
        "    response: str\n",
        "\n",
        "# Function to invoke subgraph\n",
        "def search_agent(state: QueryState) -> Dict:\n",
        "    # Transform from parent schema to subgraph schema\n",
        "    subgraph_input = {\n",
        "        \"messages\": [HumanMessage(content=state[\"query\"])]\n",
        "    }\n",
        "\n",
        "    # Invoke the subgraph\n",
        "    subgraph_result = search_app.invoke(subgraph_input)\n",
        "\n",
        "    # Transform response back to parent schema\n",
        "    state[\"response\"]= subgraph_result[\"messages\"][-1]\n",
        "    return state\n",
        "\n",
        "# Create parent graph\n",
        "parent_graph = StateGraph(QueryState)\n",
        "\n",
        "# Add transformation node that invokes subgraph\n",
        "parent_graph.add_node(\"search_agent\", search_agent)\n",
        "\n",
        "# Connect the flow\n",
        "parent_graph.add_edge(START, \"search_agent\")\n",
        "parent_graph.add_edge(\"search_agent\", END)\n",
        "\n",
        "# Compile parent graph\n",
        "parent_app = parent_graph.compile()\n",
        "\n",
        "# Run the parent graph\n",
        "result = parent_app.invoke({\"query\": \"How is the weather in Chennai?\", \"response\": \"\"})\n",
        "result"
      ]
    },
    {
      "cell_type": "code",
      "execution_count": null,
      "metadata": {
        "id": "H2oTsnRfwKIa"
      },
      "outputs": [],
      "source": []
    }
  ],
  "metadata": {
    "accelerator": "GPU",
    "colab": {
      "gpuType": "T4",
      "provenance": []
    },
    "kernelspec": {
      "display_name": "Python 3",
      "name": "python3"
    },
    "language_info": {
      "name": "python"
    }
  },
  "nbformat": 4,
  "nbformat_minor": 0
}
