{
  "cells": [
    {
      "cell_type": "code",
      "execution_count": null,
      "metadata": {},
      "outputs": [],
      "source": [
        "%pip install -r requirements.txt"
      ]
    },
    {
      "cell_type": "code",
      "execution_count": null,
      "metadata": {
        "id": "NHrswnM2276-"
      },
      "outputs": [],
      "source": [
        "from typing import Annotated, Sequence, List, Literal\n",
        "from pydantic import BaseModel, Field\n",
        "from langchain_core.messages import HumanMessage\n",
        "from langchain_community.tools.tavily_search import TavilySearchResults\n",
        "from langgraph.types import Command\n",
        "from langgraph.graph import StateGraph, START, END, MessagesState\n",
        "from langgraph.prebuilt import create_react_agent\n",
        "from IPython.display import Image, display\n",
        "from dotenv import load_dotenv\n",
        "from langchain_experimental.tools import PythonREPLTool\n",
        "from langchain_google_genai import ChatGoogleGenerativeAI\n",
        "\n",
        "load_dotenv()\n",
        "\n",
        "\n",
        "llm = ChatGoogleGenerativeAI(model=\"gemini-2.5-pro\")\n",
        "\n",
        "tavily_search = TavilySearchResults(max_results=2)\n",
        "python_repl_tool = PythonREPLTool()"
      ]
    },
    {
      "cell_type": "code",
      "execution_count": null,
      "metadata": {
        "colab": {
          "base_uri": "https://localhost:8080/",
          "height": 74
        },
        "id": "B93_OC1Ibj5b",
        "outputId": "1eb73211-c82a-4f5d-9184-7eb24a755ed7"
      },
      "outputs": [
        {
          "name": "stderr",
          "output_type": "stream",
          "text": [
            "WARNING:langchain_experimental.utilities.python:Python REPL can execute arbitrary code. Use with caution.\n"
          ]
        },
        {
          "data": {
            "application/vnd.google.colaboratory.intrinsic+json": {
              "type": "string"
            },
            "text/plain": [
              "'5\\n'"
            ]
          },
          "execution_count": 58,
          "metadata": {},
          "output_type": "execute_result"
        }
      ],
      "source": [
        "\n",
        "python_repl_tool.invoke(\"x = 5; print(x)\")"
      ]
    },
    {
      "cell_type": "code",
      "execution_count": null,
      "metadata": {
        "id": "sJq3FgUUlNRo"
      },
      "outputs": [],
      "source": [
        "class Supervisor(BaseModel):\n",
        "    next: Literal[\"enhancer\", \"researcher\", \"coder\"] = Field(\n",
        "        description=\"Determines which specialist to activate next in the workflow sequence: \"\n",
        "                    \"'enhancer' when user input requires clarification, expansion, or refinement, \"\n",
        "                    \"'researcher' when additional facts, context, or data collection is necessary, \"\n",
        "                    \"'coder' when implementation, computation, or technical problem-solving is required.\"\n",
        "    )\n",
        "    reason: str = Field(\n",
        "        description=\"Detailed justification for the routing decision, explaining the rationale behind selecting the particular specialist and how this advances the task toward completion.\"\n",
        "    )\n",
        "\n",
        "def supervisor_node(state: MessagesState) -> Command[Literal[\"enhancer\", \"researcher\", \"coder\"]]:\n",
        "\n",
        "    system_prompt = ('''\n",
        "\n",
        "        You are a workflow supervisor managing a team of three specialized agents: Prompt Enhancer, Researcher, and Coder. Your role is to orchestrate the workflow by selecting the most appropriate next agent based on the current state and needs of the task. Provide a clear, concise rationale for each decision to ensure transparency in your decision-making process.\n",
        "\n",
        "        **Team Members**:\n",
        "        1. **Prompt Enhancer**: Always consider this agent first. They clarify ambiguous requests, improve poorly defined queries, and ensure the task is well-structured before deeper processing begins.\n",
        "        2. **Researcher**: Specializes in information gathering, fact-finding, and collecting relevant data needed to address the user's request.\n",
        "        3. **Coder**: Focuses on technical implementation, calculations, data analysis, algorithm development, and coding solutions.\n",
        "\n",
        "        **Your Responsibilities**:\n",
        "        1. Analyze each user request and agent response for completeness, accuracy, and relevance.\n",
        "        2. Route the task to the most appropriate agent at each decision point.\n",
        "        3. Maintain workflow momentum by avoiding redundant agent assignments.\n",
        "        4. Continue the process until the user's request is fully and satisfactorily resolved.\n",
        "\n",
        "        Your objective is to create an efficient workflow that leverages each agent's strengths while minimizing unnecessary steps, ultimately delivering complete and accurate solutions to user requests.\n",
        "\n",
        "    ''')\n",
        "\n",
        "    messages = [\n",
        "        {\"role\": \"system\", \"content\": system_prompt},\n",
        "    ] + state[\"messages\"]\n",
        "\n",
        "    response = llm.with_structured_output(Supervisor).invoke(messages)\n",
        "\n",
        "    goto = response.next\n",
        "    reason = response.reason\n",
        "\n",
        "    print(f\"--- Workflow Transition: Supervisor → {goto.upper()} ---\")\n",
        "\n",
        "    return Command(\n",
        "        update={\n",
        "            \"messages\": [\n",
        "                HumanMessage(content=reason, name=\"supervisor\")\n",
        "            ]\n",
        "        },\n",
        "        goto=goto,\n",
        "    )"
      ]
    },
    {
      "cell_type": "code",
      "execution_count": null,
      "metadata": {
        "id": "SVn_WK1AGGyy"
      },
      "outputs": [],
      "source": [
        "def enhancer_node(state: MessagesState) -> Command[Literal[\"supervisor\"]]:\n",
        "\n",
        "    \"\"\"\n",
        "        Enhancer agent node that improves and clarifies user queries.\n",
        "        Takes the original user input and transforms it into a more precise,\n",
        "        actionable request before passing it to the supervisor.\n",
        "    \"\"\"\n",
        "\n",
        "    system_prompt = (\n",
        "        \"You are a Query Refinement Specialist with expertise in transforming vague requests into precise instructions. Your responsibilities include:\\n\\n\"\n",
        "        \"1. Analyzing the original query to identify key intent and requirements\\n\"\n",
        "        \"2. Resolving any ambiguities without requesting additional user input\\n\"\n",
        "        \"3. Expanding underdeveloped aspects of the query with reasonable assumptions\\n\"\n",
        "        \"4. Restructuring the query for clarity and actionability\\n\"\n",
        "        \"5. Ensuring all technical terminology is properly defined in context\\n\\n\"\n",
        "        \"Important: Never ask questions back to the user. Instead, make informed assumptions and create the most comprehensive version of their request possible.\"\n",
        "    )\n",
        "\n",
        "    messages = [\n",
        "        {\"role\": \"system\", \"content\": system_prompt},\n",
        "    ] + state[\"messages\"]\n",
        "\n",
        "    enhanced_query = llm.invoke(messages)\n",
        "\n",
        "    print(f\"--- Workflow Transition: Prompt Enhancer → Supervisor ---\")\n",
        "\n",
        "    return Command(\n",
        "        update={\n",
        "            \"messages\": [\n",
        "                HumanMessage(\n",
        "                    content=enhanced_query.content,\n",
        "                    name=\"enhancer\"\n",
        "                )\n",
        "            ]\n",
        "        },\n",
        "        goto=\"supervisor\",\n",
        "    )"
      ]
    },
    {
      "cell_type": "code",
      "execution_count": null,
      "metadata": {
        "id": "v6zgd9Z4GK9T"
      },
      "outputs": [],
      "source": [
        "def research_node(state: MessagesState) -> Command[Literal[\"validator\"]]:\n",
        "\n",
        "    \"\"\"\n",
        "        Research agent node that gathers information using Tavily search.\n",
        "        Takes the current task state, performs relevant research,\n",
        "        and returns findings for validation.\n",
        "    \"\"\"\n",
        "    promt = \"\"\"You are an Information Specialist with expertise in comprehensive research. Your responsibilities include:\\n\\n\n",
        "            -1. Identifying key information needs based on the query context\\n\n",
        "            -2. Gathering relevant, accurate, and up-to-date information from reliable sources\\n\n",
        "            -3. Organizing findings in a structured, easily digestible format\\n\n",
        "            -4. Citing sources when possible to establish credibility\\n\n",
        "            -5. Focusing exclusively on information gathering - avoid analysis or implementation\\n\\n\n",
        "            -Provide thorough, factual responses without speculation where information is unavailable.\"\"\"\n",
        "    research_agent = create_react_agent(\n",
        "        llm,\n",
        "        tools=[tavily_search],\n",
        "        prompt=promt\n",
        "          \n",
        "    )\n",
        "\n",
        "    result = research_agent.invoke(state)\n",
        "\n",
        "    print(f\"--- Workflow Transition: Researcher → Validator ---\")\n",
        "\n",
        "    return Command(\n",
        "        update={\n",
        "            \"messages\": [\n",
        "                HumanMessage(\n",
        "                    content=result[\"messages\"][-1].content,\n",
        "                    name=\"researcher\"\n",
        "                )\n",
        "            ]\n",
        "        },\n",
        "        goto=\"validator\",\n",
        "    )"
      ]
    },
    {
      "cell_type": "code",
      "execution_count": null,
      "metadata": {
        "id": "uvYESpQsGMUH"
      },
      "outputs": [],
      "source": [
        "def code_node(state: MessagesState) -> Command[Literal[\"validator\"]]:\n",
        "\n",
        "    code_agent = create_react_agent(\n",
        "        llm,\n",
        "        tools=[python_repl_tool],\n",
        "        state_modifier=(\n",
        "            \"You are a coder and analyst. Focus on mathematical calculations, analyzing, solving math questions, \"\n",
        "            \"and executing code. Handle technical problem-solving and data tasks.\"\n",
        "        )\n",
        "    )\n",
        "\n",
        "    result = code_agent.invoke(state)\n",
        "\n",
        "    print(f\"--- Workflow Transition: Coder → Validator ---\")\n",
        "\n",
        "    return Command(\n",
        "        update={\n",
        "            \"messages\": [\n",
        "                HumanMessage(content=result[\"messages\"][-1].content, name=\"coder\")\n",
        "            ]\n",
        "        },\n",
        "        goto=\"validator\",\n",
        "    )\n"
      ]
    },
    {
      "cell_type": "code",
      "execution_count": null,
      "metadata": {
        "id": "g_By4LKyGOKp"
      },
      "outputs": [],
      "source": [
        "# System prompt providing clear instructions to the validator agent\n",
        "system_prompt = '''\n",
        "    Your task is to ensure reasonable quality.\n",
        "    Specifically, you must:\n",
        "    - Review the user's question (the first message in the workflow).\n",
        "    - Review the answer (the last message in the workflow).\n",
        "    - If the answer addresses the core intent of the question, even if not perfectly, signal to end the workflow with 'FINISH'.\n",
        "    - Only route back to the supervisor if the answer is completely off-topic, harmful, or fundamentally misunderstands the question.\n",
        "\n",
        "    - Accept answers that are \"good enough\" rather than perfect\n",
        "    - Prioritize workflow completion over perfect responses\n",
        "    - Give benefit of doubt to borderline answers\n",
        "\n",
        "    Routing Guidelines:\n",
        "    1. 'supervisor' Agent: ONLY for responses that are completely incorrect or off-topic.\n",
        "    2. Respond with 'FINISH' in all other cases to end the workflow.\n",
        "'''\n",
        "\n",
        "class Validator(BaseModel):\n",
        "    next: Literal[\"supervisor\", \"FINISH\"] = Field(\n",
        "        description=\"Specifies the next worker in the pipeline: 'supervisor' to continue or 'FINISH' to terminate.\"\n",
        "    )\n",
        "    reason: str = Field(\n",
        "        description=\"The reason for the decision.\"\n",
        "    )\n",
        "\n",
        "def validator_node(state: MessagesState) -> Command[Literal[\"supervisor\", \"__end__\"]]:\n",
        "\n",
        "    user_question = state[\"messages\"][0].content\n",
        "    agent_answer = state[\"messages\"][-1].content\n",
        "\n",
        "    messages = [\n",
        "        {\"role\": \"system\", \"content\": system_prompt},\n",
        "        {\"role\": \"user\", \"content\": user_question},\n",
        "        {\"role\": \"assistant\", \"content\": agent_answer},\n",
        "    ]\n",
        "\n",
        "    response = llm.with_structured_output(Validator).invoke(messages)\n",
        "\n",
        "    goto = response.next\n",
        "    reason = response.reason\n",
        "\n",
        "    if goto == \"FINISH\" or goto == END:\n",
        "        goto = END\n",
        "        print(\" --- Transitioning to END ---\")\n",
        "    else:\n",
        "        print(f\"--- Workflow Transition: Validator → Supervisor ---\")\n",
        "\n",
        "\n",
        "    return Command(\n",
        "        update={\n",
        "            \"messages\": [\n",
        "                HumanMessage(content=reason, name=\"validator\")\n",
        "            ]\n",
        "        },\n",
        "        goto=goto,\n",
        "    )"
      ]
    },
    {
      "cell_type": "code",
      "execution_count": null,
      "metadata": {
        "id": "B4bS5EplGQrQ"
      },
      "outputs": [],
      "source": [
        "graph = StateGraph(MessagesState)\n",
        "\n",
        "graph.add_node(\"supervisor\", supervisor_node)\n",
        "graph.add_node(\"enhancer\", enhancer_node)\n",
        "graph.add_node(\"researcher\", research_node)\n",
        "graph.add_node(\"coder\", code_node)\n",
        "graph.add_node(\"validator\", validator_node)\n",
        "\n",
        "graph.add_edge(START, \"supervisor\")\n",
        "app = graph.compile()"
      ]
    },
    {
      "cell_type": "code",
      "execution_count": null,
      "metadata": {
        "colab": {
          "base_uri": "https://localhost:8080/",
          "height": 449
        },
        "id": "Ic2gMwp5GR3c",
        "outputId": "8dde92dd-b86a-4074-cca8-518c4ed76f62"
      },
      "outputs": [
        {
          "data": {
            "image/png": "[encoded data removed]",
            "text/plain": [
              "<IPython.core.display.Image object>"
            ]
          },
          "metadata": {},
          "output_type": "display_data"
        }
      ],
      "source": [
        "\n",
        "display(Image(app.get_graph(xray=True).draw_mermaid_png()))"
      ]
    },
    {
      "cell_type": "code",
      "execution_count": null,
      "metadata": {
        "colab": {
          "base_uri": "https://localhost:8080/",
          "height": 1000
        },
        "id": "zR_ld03dGTBI",
        "outputId": "c732111e-8a55-45ae-c881-d601c6146a39"
      },
      "outputs": [
        {
          "name": "stdout",
          "output_type": "stream",
          "text": [
            "Messages being sent to LLM in supervisor_node:\n",
            "[{'content': '{\\'role\\': \\'system\\', \\'content\\': \"\\\\n\\\\n        You are a '\n",
            "             'workflow supervisor managing a team of three specialized agents: '\n",
            "             'Prompt Enhancer, Researcher, and Coder. Your role is to '\n",
            "             'orchestrate the workflow by selecting the most appropriate next '\n",
            "             'agent based on the current state and needs of the task. Provide '\n",
            "             'a clear, concise rationale for each decision to ensure '\n",
            "             'transparency in your decision-making process.\\\\n\\\\n        '\n",
            "             '**Team Members**:\\\\n        1. **Prompt Enhancer**: Always '\n",
            "             'consider this agent first. They clarify ambiguous requests, '\n",
            "             'improve poorly defined queries, and ensure the task is '\n",
            "             'well-structured before deeper processing begins.\\\\n        2. '\n",
            "             '**Researcher**: Specializes in information gathering, '\n",
            "             'fact-finding, and collecting relevant data needed to address the '\n",
            "             \"user's request.\\\\n        3. **Coder**: Focuses on technical \"\n",
            "             'implementation, calculations, data analysis, algorithm '\n",
            "             'development, and coding solutions.\\\\n\\\\n        **Your '\n",
            "             'Responsibilities**:\\\\n        1. Analyze each user request and '\n",
            "             'agent response for completeness, accuracy, and '\n",
            "             'relevance.\\\\n        2. Route the task to the most appropriate '\n",
            "             'agent at each decision point.\\\\n        3. Maintain workflow '\n",
            "             'momentum by avoiding redundant agent assignments.\\\\n        4. '\n",
            "             \"Continue the process until the user's request is fully and \"\n",
            "             'satisfactorily resolved.\\\\n\\\\n        Your objective is to '\n",
            "             \"create an efficient workflow that leverages each agent's \"\n",
            "             'strengths while minimizing unnecessary steps, ultimately '\n",
            "             'delivering complete and accurate solutions to user '\n",
            "             'requests.\\\\n\\\\n    \"}',\n",
            "  'role': 'user'},\n",
            " {'content': 'Weather in Chennai', 'role': 'user'}]\n",
            "--- Workflow Transition: Supervisor → RESEARCHER ---\n",
            "\"Output from node 'supervisor':\"\n",
            "HumanMessage(content='The user is asking a direct question about the weather in Chennai, which requires factual information. The Researcher is the best specialist to gather this data.', additional_kwargs={}, response_metadata={}, name='supervisor', id='27db98b8-77f5-4310-a443-8a7d7e5482c7')\n",
            "\n"
          ]
        },
        {
          "ename": "TypeError",
          "evalue": "create_react_agent() got unexpected keyword arguments: {'state_modifier': 'You are an Information Specialist with expertise in comprehensive research. Your responsibilities include:\\n\\n1. Identifying key information needs based on the query context\\n2. Gathering relevant, accurate, and up-to-date information from reliable sources\\n3. Organizing findings in a structured, easily digestible format\\n4. Citing sources when possible to establish credibility\\n5. Focusing exclusively on information gathering - avoid analysis or implementation\\n\\nProvide thorough, factual responses without speculation where information is unavailable.'}",
          "output_type": "error",
          "traceback": [
            "\u001b[0;31m---------------------------------------------------------------------------\u001b[0m",
            "\u001b[0;31mTypeError\u001b[0m                                 Traceback (most recent call last)",
            "\u001b[0;32m/tmp/ipython-input-1248646333.py\u001b[0m in \u001b[0;36m<cell line: 0>\u001b[0;34m()\u001b[0m\n\u001b[1;32m      7\u001b[0m }\n\u001b[1;32m      8\u001b[0m \u001b[0;34m\u001b[0m\u001b[0m\n\u001b[0;32m----> 9\u001b[0;31m \u001b[0;32mfor\u001b[0m \u001b[0mevent\u001b[0m \u001b[0;32min\u001b[0m \u001b[0mapp\u001b[0m\u001b[0;34m.\u001b[0m\u001b[0mstream\u001b[0m\u001b[0;34m(\u001b[0m\u001b[0minputs\u001b[0m\u001b[0;34m)\u001b[0m\u001b[0;34m:\u001b[0m\u001b[0;34m\u001b[0m\u001b[0;34m\u001b[0m\u001b[0m\n\u001b[0m\u001b[1;32m     10\u001b[0m     \u001b[0;32mfor\u001b[0m \u001b[0mkey\u001b[0m\u001b[0;34m,\u001b[0m \u001b[0mvalue\u001b[0m \u001b[0;32min\u001b[0m \u001b[0mevent\u001b[0m\u001b[0;34m.\u001b[0m\u001b[0mitems\u001b[0m\u001b[0;34m(\u001b[0m\u001b[0;34m)\u001b[0m\u001b[0;34m:\u001b[0m\u001b[0;34m\u001b[0m\u001b[0;34m\u001b[0m\u001b[0m\n\u001b[1;32m     11\u001b[0m         \u001b[0;32mif\u001b[0m \u001b[0mvalue\u001b[0m \u001b[0;32mis\u001b[0m \u001b[0;32mNone\u001b[0m\u001b[0;34m:\u001b[0m\u001b[0;34m\u001b[0m\u001b[0;34m\u001b[0m\u001b[0m\n",
            "\u001b[0;32m/usr/local/lib/python3.12/dist-packages/langgraph/pregel/main.py\u001b[0m in \u001b[0;36mstream\u001b[0;34m(self, input, config, context, stream_mode, print_mode, output_keys, interrupt_before, interrupt_after, durability, subgraphs, debug, **kwargs)\u001b[0m\n\u001b[1;32m   2672\u001b[0m                     \u001b[0;32mfor\u001b[0m \u001b[0mtask\u001b[0m \u001b[0;32min\u001b[0m \u001b[0mloop\u001b[0m\u001b[0;34m.\u001b[0m\u001b[0mmatch_cached_writes\u001b[0m\u001b[0;34m(\u001b[0m\u001b[0;34m)\u001b[0m\u001b[0;34m:\u001b[0m\u001b[0;34m\u001b[0m\u001b[0;34m\u001b[0m\u001b[0m\n\u001b[1;32m   2673\u001b[0m                         \u001b[0mloop\u001b[0m\u001b[0;34m.\u001b[0m\u001b[0moutput_writes\u001b[0m\u001b[0;34m(\u001b[0m\u001b[0mtask\u001b[0m\u001b[0;34m.\u001b[0m\u001b[0mid\u001b[0m\u001b[0;34m,\u001b[0m \u001b[0mtask\u001b[0m\u001b[0;34m.\u001b[0m\u001b[0mwrites\u001b[0m\u001b[0;34m,\u001b[0m \u001b[0mcached\u001b[0m\u001b[0;34m=\u001b[0m\u001b[0;32mTrue\u001b[0m\u001b[0;34m)\u001b[0m\u001b[0;34m\u001b[0m\u001b[0;34m\u001b[0m\u001b[0m\n\u001b[0;32m-> 2674\u001b[0;31m                     for _ in runner.tick(\n\u001b[0m\u001b[1;32m   2675\u001b[0m                         \u001b[0;34m[\u001b[0m\u001b[0mt\u001b[0m \u001b[0;32mfor\u001b[0m \u001b[0mt\u001b[0m \u001b[0;32min\u001b[0m \u001b[0mloop\u001b[0m\u001b[0;34m.\u001b[0m\u001b[0mtasks\u001b[0m\u001b[0;34m.\u001b[0m\u001b[0mvalues\u001b[0m\u001b[0;34m(\u001b[0m\u001b[0;34m)\u001b[0m \u001b[0;32mif\u001b[0m \u001b[0;32mnot\u001b[0m \u001b[0mt\u001b[0m\u001b[0;34m.\u001b[0m\u001b[0mwrites\u001b[0m\u001b[0;34m]\u001b[0m\u001b[0;34m,\u001b[0m\u001b[0;34m\u001b[0m\u001b[0;34m\u001b[0m\u001b[0m\n\u001b[1;32m   2676\u001b[0m                         \u001b[0mtimeout\u001b[0m\u001b[0;34m=\u001b[0m\u001b[0mself\u001b[0m\u001b[0;34m.\u001b[0m\u001b[0mstep_timeout\u001b[0m\u001b[0;34m,\u001b[0m\u001b[0;34m\u001b[0m\u001b[0;34m\u001b[0m\u001b[0m\n",
            "\u001b[0;32m/usr/local/lib/python3.12/dist-packages/langgraph/pregel/_runner.py\u001b[0m in \u001b[0;36mtick\u001b[0;34m(self, tasks, reraise, timeout, retry_policy, get_waiter, schedule_task)\u001b[0m\n\u001b[1;32m    160\u001b[0m             \u001b[0mt\u001b[0m \u001b[0;34m=\u001b[0m \u001b[0mtasks\u001b[0m\u001b[0;34m[\u001b[0m\u001b[0;36m0\u001b[0m\u001b[0;34m]\u001b[0m\u001b[0;34m\u001b[0m\u001b[0;34m\u001b[0m\u001b[0m\n\u001b[1;32m    161\u001b[0m             \u001b[0;32mtry\u001b[0m\u001b[0;34m:\u001b[0m\u001b[0;34m\u001b[0m\u001b[0;34m\u001b[0m\u001b[0m\n\u001b[0;32m--> 162\u001b[0;31m                 run_with_retry(\n\u001b[0m\u001b[1;32m    163\u001b[0m                     \u001b[0mt\u001b[0m\u001b[0;34m,\u001b[0m\u001b[0;34m\u001b[0m\u001b[0;34m\u001b[0m\u001b[0m\n\u001b[1;32m    164\u001b[0m                     \u001b[0mretry_policy\u001b[0m\u001b[0;34m,\u001b[0m\u001b[0;34m\u001b[0m\u001b[0;34m\u001b[0m\u001b[0m\n",
            "\u001b[0;32m/usr/local/lib/python3.12/dist-packages/langgraph/pregel/_retry.py\u001b[0m in \u001b[0;36mrun_with_retry\u001b[0;34m(task, retry_policy, configurable)\u001b[0m\n\u001b[1;32m     40\u001b[0m             \u001b[0mtask\u001b[0m\u001b[0;34m.\u001b[0m\u001b[0mwrites\u001b[0m\u001b[0;34m.\u001b[0m\u001b[0mclear\u001b[0m\u001b[0;34m(\u001b[0m\u001b[0;34m)\u001b[0m\u001b[0;34m\u001b[0m\u001b[0;34m\u001b[0m\u001b[0m\n\u001b[1;32m     41\u001b[0m             \u001b[0;31m# run the task\u001b[0m\u001b[0;34m\u001b[0m\u001b[0;34m\u001b[0m\u001b[0m\n\u001b[0;32m---> 42\u001b[0;31m             \u001b[0;32mreturn\u001b[0m \u001b[0mtask\u001b[0m\u001b[0;34m.\u001b[0m\u001b[0mproc\u001b[0m\u001b[0;34m.\u001b[0m\u001b[0minvoke\u001b[0m\u001b[0;34m(\u001b[0m\u001b[0mtask\u001b[0m\u001b[0;34m.\u001b[0m\u001b[0minput\u001b[0m\u001b[0;34m,\u001b[0m \u001b[0mconfig\u001b[0m\u001b[0;34m)\u001b[0m\u001b[0;34m\u001b[0m\u001b[0;34m\u001b[0m\u001b[0m\n\u001b[0m\u001b[1;32m     43\u001b[0m         \u001b[0;32mexcept\u001b[0m \u001b[0mParentCommand\u001b[0m \u001b[0;32mas\u001b[0m \u001b[0mexc\u001b[0m\u001b[0;34m:\u001b[0m\u001b[0;34m\u001b[0m\u001b[0;34m\u001b[0m\u001b[0m\n\u001b[1;32m     44\u001b[0m             \u001b[0mns\u001b[0m\u001b[0;34m:\u001b[0m \u001b[0mstr\u001b[0m \u001b[0;34m=\u001b[0m \u001b[0mconfig\u001b[0m\u001b[0;34m[\u001b[0m\u001b[0mCONF\u001b[0m\u001b[0;34m]\u001b[0m\u001b[0;34m[\u001b[0m\u001b[0mCONFIG_KEY_CHECKPOINT_NS\u001b[0m\u001b[0;34m]\u001b[0m\u001b[0;34m\u001b[0m\u001b[0;34m\u001b[0m\u001b[0m\n",
            "\u001b[0;32m/usr/local/lib/python3.12/dist-packages/langgraph/_internal/_runnable.py\u001b[0m in \u001b[0;36minvoke\u001b[0;34m(self, input, config, **kwargs)\u001b[0m\n\u001b[1;32m    655\u001b[0m                     \u001b[0;31m# run in context\u001b[0m\u001b[0;34m\u001b[0m\u001b[0;34m\u001b[0m\u001b[0m\n\u001b[1;32m    656\u001b[0m                     \u001b[0;32mwith\u001b[0m \u001b[0mset_config_context\u001b[0m\u001b[0;34m(\u001b[0m\u001b[0mconfig\u001b[0m\u001b[0;34m,\u001b[0m \u001b[0mrun\u001b[0m\u001b[0;34m)\u001b[0m \u001b[0;32mas\u001b[0m \u001b[0mcontext\u001b[0m\u001b[0;34m:\u001b[0m\u001b[0;34m\u001b[0m\u001b[0;34m\u001b[0m\u001b[0m\n\u001b[0;32m--> 657\u001b[0;31m                         \u001b[0minput\u001b[0m \u001b[0;34m=\u001b[0m \u001b[0mcontext\u001b[0m\u001b[0;34m.\u001b[0m\u001b[0mrun\u001b[0m\u001b[0;34m(\u001b[0m\u001b[0mstep\u001b[0m\u001b[0;34m.\u001b[0m\u001b[0minvoke\u001b[0m\u001b[0;34m,\u001b[0m \u001b[0minput\u001b[0m\u001b[0;34m,\u001b[0m \u001b[0mconfig\u001b[0m\u001b[0;34m,\u001b[0m \u001b[0;34m**\u001b[0m\u001b[0mkwargs\u001b[0m\u001b[0;34m)\u001b[0m\u001b[0;34m\u001b[0m\u001b[0;34m\u001b[0m\u001b[0m\n\u001b[0m\u001b[1;32m    658\u001b[0m                 \u001b[0;32melse\u001b[0m\u001b[0;34m:\u001b[0m\u001b[0;34m\u001b[0m\u001b[0;34m\u001b[0m\u001b[0m\n\u001b[1;32m    659\u001b[0m                     \u001b[0minput\u001b[0m \u001b[0;34m=\u001b[0m \u001b[0mstep\u001b[0m\u001b[0;34m.\u001b[0m\u001b[0minvoke\u001b[0m\u001b[0;34m(\u001b[0m\u001b[0minput\u001b[0m\u001b[0;34m,\u001b[0m \u001b[0mconfig\u001b[0m\u001b[0;34m)\u001b[0m\u001b[0;34m\u001b[0m\u001b[0;34m\u001b[0m\u001b[0m\n",
            "\u001b[0;32m/usr/local/lib/python3.12/dist-packages/langgraph/_internal/_runnable.py\u001b[0m in \u001b[0;36minvoke\u001b[0;34m(self, input, config, **kwargs)\u001b[0m\n\u001b[1;32m    399\u001b[0m                 \u001b[0mrun_manager\u001b[0m\u001b[0;34m.\u001b[0m\u001b[0mon_chain_end\u001b[0m\u001b[0;34m(\u001b[0m\u001b[0mret\u001b[0m\u001b[0;34m)\u001b[0m\u001b[0;34m\u001b[0m\u001b[0;34m\u001b[0m\u001b[0m\n\u001b[1;32m    400\u001b[0m         \u001b[0;32melse\u001b[0m\u001b[0;34m:\u001b[0m\u001b[0;34m\u001b[0m\u001b[0;34m\u001b[0m\u001b[0m\n\u001b[0;32m--> 401\u001b[0;31m             \u001b[0mret\u001b[0m \u001b[0;34m=\u001b[0m \u001b[0mself\u001b[0m\u001b[0;34m.\u001b[0m\u001b[0mfunc\u001b[0m\u001b[0;34m(\u001b[0m\u001b[0;34m*\u001b[0m\u001b[0margs\u001b[0m\u001b[0;34m,\u001b[0m \u001b[0;34m**\u001b[0m\u001b[0mkwargs\u001b[0m\u001b[0;34m)\u001b[0m\u001b[0;34m\u001b[0m\u001b[0;34m\u001b[0m\u001b[0m\n\u001b[0m\u001b[1;32m    402\u001b[0m         \u001b[0;32mif\u001b[0m \u001b[0mself\u001b[0m\u001b[0;34m.\u001b[0m\u001b[0mrecurse\u001b[0m \u001b[0;32mand\u001b[0m \u001b[0misinstance\u001b[0m\u001b[0;34m(\u001b[0m\u001b[0mret\u001b[0m\u001b[0;34m,\u001b[0m \u001b[0mRunnable\u001b[0m\u001b[0;34m)\u001b[0m\u001b[0;34m:\u001b[0m\u001b[0;34m\u001b[0m\u001b[0;34m\u001b[0m\u001b[0m\n\u001b[1;32m    403\u001b[0m             \u001b[0;32mreturn\u001b[0m \u001b[0mret\u001b[0m\u001b[0;34m.\u001b[0m\u001b[0minvoke\u001b[0m\u001b[0;34m(\u001b[0m\u001b[0minput\u001b[0m\u001b[0;34m,\u001b[0m \u001b[0mconfig\u001b[0m\u001b[0;34m)\u001b[0m\u001b[0;34m\u001b[0m\u001b[0;34m\u001b[0m\u001b[0m\n",
            "\u001b[0;32m/tmp/ipython-input-3645891764.py\u001b[0m in \u001b[0;36mresearch_node\u001b[0;34m(state)\u001b[0m\n\u001b[1;32m      7\u001b[0m     \"\"\"\n\u001b[1;32m      8\u001b[0m \u001b[0;34m\u001b[0m\u001b[0m\n\u001b[0;32m----> 9\u001b[0;31m     research_agent = create_react_agent(\n\u001b[0m\u001b[1;32m     10\u001b[0m         \u001b[0mllm\u001b[0m\u001b[0;34m,\u001b[0m\u001b[0;34m\u001b[0m\u001b[0;34m\u001b[0m\u001b[0m\n\u001b[1;32m     11\u001b[0m         \u001b[0mtools\u001b[0m\u001b[0;34m=\u001b[0m\u001b[0;34m[\u001b[0m\u001b[0mtavily_search\u001b[0m\u001b[0;34m]\u001b[0m\u001b[0;34m,\u001b[0m\u001b[0;34m\u001b[0m\u001b[0;34m\u001b[0m\u001b[0m\n",
            "\u001b[0;32m/usr/local/lib/python3.12/dist-packages/langgraph/prebuilt/chat_agent_executor.py\u001b[0m in \u001b[0;36mcreate_react_agent\u001b[0;34m(model, tools, prompt, response_format, pre_model_hook, post_model_hook, state_schema, context_schema, checkpointer, store, interrupt_before, interrupt_after, debug, version, name, **deprecated_kwargs)\u001b[0m\n\u001b[1;32m    475\u001b[0m \u001b[0;34m\u001b[0m\u001b[0m\n\u001b[1;32m    476\u001b[0m     \u001b[0;32mif\u001b[0m \u001b[0mlen\u001b[0m\u001b[0;34m(\u001b[0m\u001b[0mdeprecated_kwargs\u001b[0m\u001b[0;34m)\u001b[0m \u001b[0;34m>\u001b[0m \u001b[0;36m0\u001b[0m\u001b[0;34m:\u001b[0m\u001b[0;34m\u001b[0m\u001b[0;34m\u001b[0m\u001b[0m\n\u001b[0;32m--> 477\u001b[0;31m         raise TypeError(\n\u001b[0m\u001b[1;32m    478\u001b[0m             \u001b[0;34mf\"create_react_agent() got unexpected keyword arguments: {deprecated_kwargs}\"\u001b[0m\u001b[0;34m\u001b[0m\u001b[0;34m\u001b[0m\u001b[0m\n\u001b[1;32m    479\u001b[0m         )\n",
            "\u001b[0;31mTypeError\u001b[0m: create_react_agent() got unexpected keyword arguments: {'state_modifier': 'You are an Information Specialist with expertise in comprehensive research. Your responsibilities include:\\n\\n1. Identifying key information needs based on the query context\\n2. Gathering relevant, accurate, and up-to-date information from reliable sources\\n3. Organizing findings in a structured, easily digestible format\\n4. Citing sources when possible to establish credibility\\n5. Focusing exclusively on information gathering - avoid analysis or implementation\\n\\nProvide thorough, factual responses without speculation where information is unavailable.'}"
          ]
        }
      ],
      "source": [
        "import pprint\n",
        "\n",
        "inputs = {\n",
        "    \"messages\": [\n",
        "        (\"user\", \"Weather in Chennai\"),\n",
        "    ]\n",
        "}\n",
        "\n",
        "for event in app.stream(inputs):\n",
        "    for key, value in event.items():\n",
        "        if value is None:\n",
        "            continue\n",
        "        last_message = value.get(\"messages\", [])[-1] if \"messages\" in value else None\n",
        "        if last_message:\n",
        "            pprint.pprint(f\"Output from node '{key}':\")\n",
        "            pprint.pprint(last_message, indent=2, width=80, depth=None)\n",
        "            print()\n"
      ]
    },
    {
      "cell_type": "code",
      "execution_count": null,
      "metadata": {
        "colab": {
          "base_uri": "https://localhost:8080/",
          "height": 1000
        },
        "id": "NlTWcua1GVHc",
        "outputId": "4b2a230c-8d82-4342-f6d8-60119dc78fd2"
      },
      "outputs": [
        {
          "name": "stdout",
          "output_type": "stream",
          "text": [
            "Messages being sent to LLM in supervisor_node:\n",
            "[{'content': '{\\'role\\': \\'system\\', \\'content\\': \"\\\\n\\\\n        You are a '\n",
            "             'workflow supervisor managing a team of three specialized agents: '\n",
            "             'Prompt Enhancer, Researcher, and Coder. Your role is to '\n",
            "             'orchestrate the workflow by selecting the most appropriate next '\n",
            "             'agent based on the current state and needs of the task. Provide '\n",
            "             'a clear, concise rationale for each decision to ensure '\n",
            "             'transparency in your decision-making process.\\\\n\\\\n        '\n",
            "             '**Team Members**:\\\\n        1. **Prompt Enhancer**: Always '\n",
            "             'consider this agent first. They clarify ambiguous requests, '\n",
            "             'improve poorly defined queries, and ensure the task is '\n",
            "             'well-structured before deeper processing begins.\\\\n        2. '\n",
            "             '**Researcher**: Specializes in information gathering, '\n",
            "             'fact-finding, and collecting relevant data needed to address the '\n",
            "             \"user's request.\\\\n        3. **Coder**: Focuses on technical \"\n",
            "             'implementation, calculations, data analysis, algorithm '\n",
            "             'development, and coding solutions.\\\\n\\\\n        **Your '\n",
            "             'Responsibilities**:\\\\n        1. Analyze each user request and '\n",
            "             'agent response for completeness, accuracy, and '\n",
            "             'relevance.\\\\n        2. Route the task to the most appropriate '\n",
            "             'agent at each decision point.\\\\n        3. Maintain workflow '\n",
            "             'momentum by avoiding redundant agent assignments.\\\\n        4. '\n",
            "             \"Continue the process until the user's request is fully and \"\n",
            "             'satisfactorily resolved.\\\\n\\\\n        Your objective is to '\n",
            "             \"create an efficient workflow that leverages each agent's \"\n",
            "             'strengths while minimizing unnecessary steps, ultimately '\n",
            "             'delivering complete and accurate solutions to user '\n",
            "             'requests.\\\\n\\\\n    \"}',\n",
            "  'role': 'user'},\n",
            " {'content': 'Give me the 20th fibonacci number', 'role': 'user'}]\n",
            "--- Workflow Transition: Supervisor → CODER ---\n",
            "\"Output from node 'supervisor':\"\n",
            "{ 'messages': [ HumanMessage(content='The user is asking for a specific number in the Fibonacci sequence, which is a well-defined mathematical calculation. The Coder agent is best suited to perform this computation accurately.', additional_kwargs={}, response_metadata={}, name='supervisor', id='9f662f48-6fac-4fd9-ae52-a46d09c1f1a7')]}\n",
            "\n"
          ]
        },
        {
          "ename": "TypeError",
          "evalue": "create_react_agent() got unexpected keyword arguments: {'state_modifier': 'You are a coder and analyst. Focus on mathematical calculations, analyzing, solving math questions, and executing code. Handle technical problem-solving and data tasks.'}",
          "output_type": "error",
          "traceback": [
            "\u001b[0;31m---------------------------------------------------------------------------\u001b[0m",
            "\u001b[0;31mTypeError\u001b[0m                                 Traceback (most recent call last)",
            "\u001b[0;32m/tmp/ipython-input-1039830552.py\u001b[0m in \u001b[0;36m<cell line: 0>\u001b[0;34m()\u001b[0m\n\u001b[1;32m      6\u001b[0m     ]\n\u001b[1;32m      7\u001b[0m }\n\u001b[0;32m----> 8\u001b[0;31m \u001b[0;32mfor\u001b[0m \u001b[0mevent\u001b[0m \u001b[0;32min\u001b[0m \u001b[0mapp\u001b[0m\u001b[0;34m.\u001b[0m\u001b[0mstream\u001b[0m\u001b[0;34m(\u001b[0m\u001b[0minputs\u001b[0m\u001b[0;34m)\u001b[0m\u001b[0;34m:\u001b[0m\u001b[0;34m\u001b[0m\u001b[0;34m\u001b[0m\u001b[0m\n\u001b[0m\u001b[1;32m      9\u001b[0m     \u001b[0;32mfor\u001b[0m \u001b[0mkey\u001b[0m\u001b[0;34m,\u001b[0m \u001b[0mvalue\u001b[0m \u001b[0;32min\u001b[0m \u001b[0mevent\u001b[0m\u001b[0;34m.\u001b[0m\u001b[0mitems\u001b[0m\u001b[0;34m(\u001b[0m\u001b[0;34m)\u001b[0m\u001b[0;34m:\u001b[0m\u001b[0;34m\u001b[0m\u001b[0;34m\u001b[0m\u001b[0m\n\u001b[1;32m     10\u001b[0m         \u001b[0;32mif\u001b[0m \u001b[0mvalue\u001b[0m \u001b[0;32mis\u001b[0m \u001b[0;32mNone\u001b[0m\u001b[0;34m:\u001b[0m\u001b[0;34m\u001b[0m\u001b[0;34m\u001b[0m\u001b[0m\n",
            "\u001b[0;32m/usr/local/lib/python3.12/dist-packages/langgraph/pregel/main.py\u001b[0m in \u001b[0;36mstream\u001b[0;34m(self, input, config, context, stream_mode, print_mode, output_keys, interrupt_before, interrupt_after, durability, subgraphs, debug, **kwargs)\u001b[0m\n\u001b[1;32m   2672\u001b[0m                     \u001b[0;32mfor\u001b[0m \u001b[0mtask\u001b[0m \u001b[0;32min\u001b[0m \u001b[0mloop\u001b[0m\u001b[0;34m.\u001b[0m\u001b[0mmatch_cached_writes\u001b[0m\u001b[0;34m(\u001b[0m\u001b[0;34m)\u001b[0m\u001b[0;34m:\u001b[0m\u001b[0;34m\u001b[0m\u001b[0;34m\u001b[0m\u001b[0m\n\u001b[1;32m   2673\u001b[0m                         \u001b[0mloop\u001b[0m\u001b[0;34m.\u001b[0m\u001b[0moutput_writes\u001b[0m\u001b[0;34m(\u001b[0m\u001b[0mtask\u001b[0m\u001b[0;34m.\u001b[0m\u001b[0mid\u001b[0m\u001b[0;34m,\u001b[0m \u001b[0mtask\u001b[0m\u001b[0;34m.\u001b[0m\u001b[0mwrites\u001b[0m\u001b[0;34m,\u001b[0m \u001b[0mcached\u001b[0m\u001b[0;34m=\u001b[0m\u001b[0;32mTrue\u001b[0m\u001b[0;34m)\u001b[0m\u001b[0;34m\u001b[0m\u001b[0;34m\u001b[0m\u001b[0m\n\u001b[0;32m-> 2674\u001b[0;31m                     for _ in runner.tick(\n\u001b[0m\u001b[1;32m   2675\u001b[0m                         \u001b[0;34m[\u001b[0m\u001b[0mt\u001b[0m \u001b[0;32mfor\u001b[0m \u001b[0mt\u001b[0m \u001b[0;32min\u001b[0m \u001b[0mloop\u001b[0m\u001b[0;34m.\u001b[0m\u001b[0mtasks\u001b[0m\u001b[0;34m.\u001b[0m\u001b[0mvalues\u001b[0m\u001b[0;34m(\u001b[0m\u001b[0;34m)\u001b[0m \u001b[0;32mif\u001b[0m \u001b[0;32mnot\u001b[0m \u001b[0mt\u001b[0m\u001b[0;34m.\u001b[0m\u001b[0mwrites\u001b[0m\u001b[0;34m]\u001b[0m\u001b[0;34m,\u001b[0m\u001b[0;34m\u001b[0m\u001b[0;34m\u001b[0m\u001b[0m\n\u001b[1;32m   2676\u001b[0m                         \u001b[0mtimeout\u001b[0m\u001b[0;34m=\u001b[0m\u001b[0mself\u001b[0m\u001b[0;34m.\u001b[0m\u001b[0mstep_timeout\u001b[0m\u001b[0;34m,\u001b[0m\u001b[0;34m\u001b[0m\u001b[0;34m\u001b[0m\u001b[0m\n",
            "\u001b[0;32m/usr/local/lib/python3.12/dist-packages/langgraph/pregel/_runner.py\u001b[0m in \u001b[0;36mtick\u001b[0;34m(self, tasks, reraise, timeout, retry_policy, get_waiter, schedule_task)\u001b[0m\n\u001b[1;32m    160\u001b[0m             \u001b[0mt\u001b[0m \u001b[0;34m=\u001b[0m \u001b[0mtasks\u001b[0m\u001b[0;34m[\u001b[0m\u001b[0;36m0\u001b[0m\u001b[0;34m]\u001b[0m\u001b[0;34m\u001b[0m\u001b[0;34m\u001b[0m\u001b[0m\n\u001b[1;32m    161\u001b[0m             \u001b[0;32mtry\u001b[0m\u001b[0;34m:\u001b[0m\u001b[0;34m\u001b[0m\u001b[0;34m\u001b[0m\u001b[0m\n\u001b[0;32m--> 162\u001b[0;31m                 run_with_retry(\n\u001b[0m\u001b[1;32m    163\u001b[0m                     \u001b[0mt\u001b[0m\u001b[0;34m,\u001b[0m\u001b[0;34m\u001b[0m\u001b[0;34m\u001b[0m\u001b[0m\n\u001b[1;32m    164\u001b[0m                     \u001b[0mretry_policy\u001b[0m\u001b[0;34m,\u001b[0m\u001b[0;34m\u001b[0m\u001b[0;34m\u001b[0m\u001b[0m\n",
            "\u001b[0;32m/usr/local/lib/python3.12/dist-packages/langgraph/pregel/_retry.py\u001b[0m in \u001b[0;36mrun_with_retry\u001b[0;34m(task, retry_policy, configurable)\u001b[0m\n\u001b[1;32m     40\u001b[0m             \u001b[0mtask\u001b[0m\u001b[0;34m.\u001b[0m\u001b[0mwrites\u001b[0m\u001b[0;34m.\u001b[0m\u001b[0mclear\u001b[0m\u001b[0;34m(\u001b[0m\u001b[0;34m)\u001b[0m\u001b[0;34m\u001b[0m\u001b[0;34m\u001b[0m\u001b[0m\n\u001b[1;32m     41\u001b[0m             \u001b[0;31m# run the task\u001b[0m\u001b[0;34m\u001b[0m\u001b[0;34m\u001b[0m\u001b[0m\n\u001b[0;32m---> 42\u001b[0;31m             \u001b[0;32mreturn\u001b[0m \u001b[0mtask\u001b[0m\u001b[0;34m.\u001b[0m\u001b[0mproc\u001b[0m\u001b[0;34m.\u001b[0m\u001b[0minvoke\u001b[0m\u001b[0;34m(\u001b[0m\u001b[0mtask\u001b[0m\u001b[0;34m.\u001b[0m\u001b[0minput\u001b[0m\u001b[0;34m,\u001b[0m \u001b[0mconfig\u001b[0m\u001b[0;34m)\u001b[0m\u001b[0;34m\u001b[0m\u001b[0;34m\u001b[0m\u001b[0m\n\u001b[0m\u001b[1;32m     43\u001b[0m         \u001b[0;32mexcept\u001b[0m \u001b[0mParentCommand\u001b[0m \u001b[0;32mas\u001b[0m \u001b[0mexc\u001b[0m\u001b[0;34m:\u001b[0m\u001b[0;34m\u001b[0m\u001b[0;34m\u001b[0m\u001b[0m\n\u001b[1;32m     44\u001b[0m             \u001b[0mns\u001b[0m\u001b[0;34m:\u001b[0m \u001b[0mstr\u001b[0m \u001b[0;34m=\u001b[0m \u001b[0mconfig\u001b[0m\u001b[0;34m[\u001b[0m\u001b[0mCONF\u001b[0m\u001b[0;34m]\u001b[0m\u001b[0;34m[\u001b[0m\u001b[0mCONFIG_KEY_CHECKPOINT_NS\u001b[0m\u001b[0;34m]\u001b[0m\u001b[0;34m\u001b[0m\u001b[0;34m\u001b[0m\u001b[0m\n",
            "\u001b[0;32m/usr/local/lib/python3.12/dist-packages/langgraph/_internal/_runnable.py\u001b[0m in \u001b[0;36minvoke\u001b[0;34m(self, input, config, **kwargs)\u001b[0m\n\u001b[1;32m    655\u001b[0m                     \u001b[0;31m# run in context\u001b[0m\u001b[0;34m\u001b[0m\u001b[0;34m\u001b[0m\u001b[0m\n\u001b[1;32m    656\u001b[0m                     \u001b[0;32mwith\u001b[0m \u001b[0mset_config_context\u001b[0m\u001b[0;34m(\u001b[0m\u001b[0mconfig\u001b[0m\u001b[0;34m,\u001b[0m \u001b[0mrun\u001b[0m\u001b[0;34m)\u001b[0m \u001b[0;32mas\u001b[0m \u001b[0mcontext\u001b[0m\u001b[0;34m:\u001b[0m\u001b[0;34m\u001b[0m\u001b[0;34m\u001b[0m\u001b[0m\n\u001b[0;32m--> 657\u001b[0;31m                         \u001b[0minput\u001b[0m \u001b[0;34m=\u001b[0m \u001b[0mcontext\u001b[0m\u001b[0;34m.\u001b[0m\u001b[0mrun\u001b[0m\u001b[0;34m(\u001b[0m\u001b[0mstep\u001b[0m\u001b[0;34m.\u001b[0m\u001b[0minvoke\u001b[0m\u001b[0;34m,\u001b[0m \u001b[0minput\u001b[0m\u001b[0;34m,\u001b[0m \u001b[0mconfig\u001b[0m\u001b[0;34m,\u001b[0m \u001b[0;34m**\u001b[0m\u001b[0mkwargs\u001b[0m\u001b[0;34m)\u001b[0m\u001b[0;34m\u001b[0m\u001b[0;34m\u001b[0m\u001b[0m\n\u001b[0m\u001b[1;32m    658\u001b[0m                 \u001b[0;32melse\u001b[0m\u001b[0;34m:\u001b[0m\u001b[0;34m\u001b[0m\u001b[0;34m\u001b[0m\u001b[0m\n\u001b[1;32m    659\u001b[0m                     \u001b[0minput\u001b[0m \u001b[0;34m=\u001b[0m \u001b[0mstep\u001b[0m\u001b[0;34m.\u001b[0m\u001b[0minvoke\u001b[0m\u001b[0;34m(\u001b[0m\u001b[0minput\u001b[0m\u001b[0;34m,\u001b[0m \u001b[0mconfig\u001b[0m\u001b[0;34m)\u001b[0m\u001b[0;34m\u001b[0m\u001b[0;34m\u001b[0m\u001b[0m\n",
            "\u001b[0;32m/usr/local/lib/python3.12/dist-packages/langgraph/_internal/_runnable.py\u001b[0m in \u001b[0;36minvoke\u001b[0;34m(self, input, config, **kwargs)\u001b[0m\n\u001b[1;32m    399\u001b[0m                 \u001b[0mrun_manager\u001b[0m\u001b[0;34m.\u001b[0m\u001b[0mon_chain_end\u001b[0m\u001b[0;34m(\u001b[0m\u001b[0mret\u001b[0m\u001b[0;34m)\u001b[0m\u001b[0;34m\u001b[0m\u001b[0;34m\u001b[0m\u001b[0m\n\u001b[1;32m    400\u001b[0m         \u001b[0;32melse\u001b[0m\u001b[0;34m:\u001b[0m\u001b[0;34m\u001b[0m\u001b[0;34m\u001b[0m\u001b[0m\n\u001b[0;32m--> 401\u001b[0;31m             \u001b[0mret\u001b[0m \u001b[0;34m=\u001b[0m \u001b[0mself\u001b[0m\u001b[0;34m.\u001b[0m\u001b[0mfunc\u001b[0m\u001b[0;34m(\u001b[0m\u001b[0;34m*\u001b[0m\u001b[0margs\u001b[0m\u001b[0;34m,\u001b[0m \u001b[0;34m**\u001b[0m\u001b[0mkwargs\u001b[0m\u001b[0;34m)\u001b[0m\u001b[0;34m\u001b[0m\u001b[0;34m\u001b[0m\u001b[0m\n\u001b[0m\u001b[1;32m    402\u001b[0m         \u001b[0;32mif\u001b[0m \u001b[0mself\u001b[0m\u001b[0;34m.\u001b[0m\u001b[0mrecurse\u001b[0m \u001b[0;32mand\u001b[0m \u001b[0misinstance\u001b[0m\u001b[0;34m(\u001b[0m\u001b[0mret\u001b[0m\u001b[0;34m,\u001b[0m \u001b[0mRunnable\u001b[0m\u001b[0;34m)\u001b[0m\u001b[0;34m:\u001b[0m\u001b[0;34m\u001b[0m\u001b[0;34m\u001b[0m\u001b[0m\n\u001b[1;32m    403\u001b[0m             \u001b[0;32mreturn\u001b[0m \u001b[0mret\u001b[0m\u001b[0;34m.\u001b[0m\u001b[0minvoke\u001b[0m\u001b[0;34m(\u001b[0m\u001b[0minput\u001b[0m\u001b[0;34m,\u001b[0m \u001b[0mconfig\u001b[0m\u001b[0;34m)\u001b[0m\u001b[0;34m\u001b[0m\u001b[0;34m\u001b[0m\u001b[0m\n",
            "\u001b[0;32m/tmp/ipython-input-3140381774.py\u001b[0m in \u001b[0;36mcode_node\u001b[0;34m(state)\u001b[0m\n\u001b[1;32m      1\u001b[0m \u001b[0;32mdef\u001b[0m \u001b[0mcode_node\u001b[0m\u001b[0;34m(\u001b[0m\u001b[0mstate\u001b[0m\u001b[0;34m:\u001b[0m \u001b[0mMessagesState\u001b[0m\u001b[0;34m)\u001b[0m \u001b[0;34m->\u001b[0m \u001b[0mCommand\u001b[0m\u001b[0;34m[\u001b[0m\u001b[0mLiteral\u001b[0m\u001b[0;34m[\u001b[0m\u001b[0;34m\"validator\"\u001b[0m\u001b[0;34m]\u001b[0m\u001b[0;34m]\u001b[0m\u001b[0;34m:\u001b[0m\u001b[0;34m\u001b[0m\u001b[0;34m\u001b[0m\u001b[0m\n\u001b[1;32m      2\u001b[0m \u001b[0;34m\u001b[0m\u001b[0m\n\u001b[0;32m----> 3\u001b[0;31m     code_agent = create_react_agent(\n\u001b[0m\u001b[1;32m      4\u001b[0m         \u001b[0mllm\u001b[0m\u001b[0;34m,\u001b[0m\u001b[0;34m\u001b[0m\u001b[0;34m\u001b[0m\u001b[0m\n\u001b[1;32m      5\u001b[0m         \u001b[0mtools\u001b[0m\u001b[0;34m=\u001b[0m\u001b[0;34m[\u001b[0m\u001b[0mpython_repl_tool\u001b[0m\u001b[0;34m]\u001b[0m\u001b[0;34m,\u001b[0m\u001b[0;34m\u001b[0m\u001b[0;34m\u001b[0m\u001b[0m\n",
            "\u001b[0;32m/usr/local/lib/python3.12/dist-packages/langgraph/prebuilt/chat_agent_executor.py\u001b[0m in \u001b[0;36mcreate_react_agent\u001b[0;34m(model, tools, prompt, response_format, pre_model_hook, post_model_hook, state_schema, context_schema, checkpointer, store, interrupt_before, interrupt_after, debug, version, name, **deprecated_kwargs)\u001b[0m\n\u001b[1;32m    475\u001b[0m \u001b[0;34m\u001b[0m\u001b[0m\n\u001b[1;32m    476\u001b[0m     \u001b[0;32mif\u001b[0m \u001b[0mlen\u001b[0m\u001b[0;34m(\u001b[0m\u001b[0mdeprecated_kwargs\u001b[0m\u001b[0;34m)\u001b[0m \u001b[0;34m>\u001b[0m \u001b[0;36m0\u001b[0m\u001b[0;34m:\u001b[0m\u001b[0;34m\u001b[0m\u001b[0;34m\u001b[0m\u001b[0m\n\u001b[0;32m--> 477\u001b[0;31m         raise TypeError(\n\u001b[0m\u001b[1;32m    478\u001b[0m             \u001b[0;34mf\"create_react_agent() got unexpected keyword arguments: {deprecated_kwargs}\"\u001b[0m\u001b[0;34m\u001b[0m\u001b[0;34m\u001b[0m\u001b[0m\n\u001b[1;32m    479\u001b[0m         )\n",
            "\u001b[0;31mTypeError\u001b[0m: create_react_agent() got unexpected keyword arguments: {'state_modifier': 'You are a coder and analyst. Focus on mathematical calculations, analyzing, solving math questions, and executing code. Handle technical problem-solving and data tasks.'}"
          ]
        }
      ],
      "source": [
        "\n",
        "import pprint\n",
        "\n",
        "inputs = {\n",
        "    \"messages\": [\n",
        "        (\"user\", \"Give me the 20th fibonacci number\"),\n",
        "    ]\n",
        "}\n",
        "for event in app.stream(inputs):\n",
        "    for key, value in event.items():\n",
        "        if value is None:\n",
        "            continue\n",
        "        pprint.pprint(f\"Output from node '{key}':\")\n",
        "        pprint.pprint(value, indent=2, width=80, depth=None)\n",
        "        print()\n"
      ]
    }
  ],
  "metadata": {
    "accelerator": "GPU",
    "colab": {
      "gpuType": "T4",
      "provenance": []
    },
    "kernelspec": {
      "display_name": ".venv (3.11.0)",
      "language": "python",
      "name": "python3"
    },
    "language_info": {
      "name": "python",
      "version": "3.11.0"
    }
  },
  "nbformat": 4,
  "nbformat_minor": 0
}
